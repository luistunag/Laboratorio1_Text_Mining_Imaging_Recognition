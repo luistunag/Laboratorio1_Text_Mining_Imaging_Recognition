{
 "cells": [
  {
   "cell_type": "markdown",
   "id": "43bb1194-d1b0-4af1-9a75-181e47779788",
   "metadata": {
    "collapsed": false
   },
   "source": [
    "### Problema 1"
   ]
  },
  {
   "cell_type": "code",
   "execution_count": 1,
   "id": "0be7eb53-3a94-4f5b-8e00-faa2deabcaf0",
   "metadata": {
    "collapsed": false
   },
   "outputs": [],
   "source": [
    "# Cargar librerías\n",
    "import cv2\n",
    "import numpy as np"
   ]
  },
  {
   "cell_type": "code",
   "execution_count": 2,
   "id": "a64f056e-075f-4b11-95e0-b4f99e900305",
   "metadata": {
    "collapsed": false
   },
   "outputs": [],
   "source": [
    "def filtrar_canales(imagen, color):\n",
    "    # Leer la imagen\n",
    "    img = cv2.imread(imagen)\n",
    "    \n",
    "    # Crear una máscara para cada canal\n",
    "    blue_channel = img.copy()\n",
    "    green_channel = img.copy()\n",
    "    red_channel = img.copy()\n",
    "\n",
    "    # Apagar los canales no deseados\n",
    "    blue_channel[:, :, 1] = 0  # Apagar el canal verde\n",
    "    blue_channel[:, :, 2] = 0  # Apagar el canal rojo\n",
    "\n",
    "    green_channel[:, :, 0] = 0  # Apagar el canal azul\n",
    "    green_channel[:, :, 2] = 0  # Apagar el canal rojo\n",
    "\n",
    "    red_channel[:, :, 0] = 0  # Apagar el canal azul\n",
    "    red_channel[:, :, 1] = 0  # Apagar el canal verde\n",
    "\n",
    "    # Dependiendo del valor de color, combinamos las máscaras apropiadas\n",
    "    if color == 1:\n",
    "        return blue_channel\n",
    "    elif color == 2:\n",
    "        return green_channel\n",
    "    elif color == 3:\n",
    "        return red_channel\n",
    "    elif color == 10:\n",
    "        combined = cv2.add(red_channel, green_channel)\n",
    "        return combined\n",
    "    elif color == 20:\n",
    "        combined = cv2.add(green_channel, blue_channel)\n",
    "        return combined\n",
    "    elif color == 30:\n",
    "        combined = cv2.add(red_channel, blue_channel)\n",
    "        return combined\n",
    "    else:\n",
    "        raise ValueError(\"Color no válido. Debe ser uno de los siguientes valores: 1, 2, 3, 10, 20, 30.\")"
   ]
  },
  {
   "cell_type": "code",
   "execution_count": null,
   "id": "d1786ad3-8243-4b55-9091-fc5cc12e1ce3",
   "metadata": {
    "collapsed": false
   },
   "outputs": [],
   "source": []
  }
 ],
 "metadata": {
  "kernelspec": {
   "argv": [
    "/Users/luistun/anaconda3/bin/python",
    "-m",
    "ipykernel_launcher",
    "-f",
    "{connection_file}"
   ],
   "display_name": "Python 3 (ipykernel)",
   "env": null,
   "interrupt_mode": "signal",
   "language": "python",
   "metadata": {
    "debugger": true
   },
   "name": "python3"
  },
  "name": "22003085_LuisTun_Laboratorio1.ipynb"
 },
 "nbformat": 4,
 "nbformat_minor": 5
}
